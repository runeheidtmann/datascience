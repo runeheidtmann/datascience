{
 "cells": [
  {
   "cell_type": "markdown",
   "id": "0376a7b3",
   "metadata": {},
   "source": [
    "<h1>Simple is good: Text Classification with Naïve Bayes</h1>\n"
   ]
  },
  {
   "cell_type": "code",
   "execution_count": null,
   "id": "770513d9",
   "metadata": {},
   "outputs": [],
   "source": [
    "import pandas as pd\n",
    "import numpy as np\n",
    "from sklearn.model_selection import train_test_split\n",
    "import re\n",
    "import matplotlib.pyplot as plt\n",
    "import warnings\n",
    "warnings.filterwarnings('ignore')\n",
    "from string import punctuation\n",
    "import nltk\n"
   ]
  },
  {
   "cell_type": "code",
   "execution_count": 5,
   "id": "40e245e3",
   "metadata": {},
   "outputs": [],
   "source": [
    "#We need to prepare the text for machine learning.\n",
    "# This means these steps:\n",
    "# 1. Tokenize the text. Make the tekst and array of words where all none alphatic characters\n",
    "#    are removed\n",
    "# 2. Remove stop words. Meaning we remove all words that are not import for the specific context.\n",
    "\n",
    "# 3. Stemming. Get rid of all inflections of the words. What you are left with are the roots\n",
    "#    of the words. Ex: \"Words\" and \"Wording\" -> \"word, word\" and there count as the same\n",
    "\n"
   ]
  },
  {
   "cell_type": "code",
   "execution_count": 22,
   "id": "ce14f0c7",
   "metadata": {},
   "outputs": [],
   "source": [
    "# Helper functions to clean the data.\n",
    "\n",
    "def getTokens(s):\n",
    "    words = nltk.word_tokenize(s)\n",
    "    words = [word.lower() for word in words if word.isalpha()]\n",
    "    return words\n",
    "\n",
    "#Method that removes irrelevant words defined beforehand in a list\n",
    "#takes an array of words.\n",
    "def remove_stop_words(words):\n",
    "    with open('stopwords.txt') as f:\n",
    "        stopwords = f.read().splitlines()\n",
    "        return [w for w in words if w not in stopwords]\n",
    "\n",
    "        \n",
    "def remove_punctuation(s):\n",
    "    global punctuation\n",
    "    for p in punctuation:\n",
    "        s = s.replace('-',' ')\n",
    "        s = s.replace('/',' ')\n",
    "        s = s.replace(p, '')\n",
    "        s = s.replace('¨','')\n",
    "    return s\n",
    "\n",
    "def word_roots(words,wdf): \n",
    "    result = []\n",
    "    for word in words:\n",
    "        #Find the row, where the word is.\n",
    "        row = wdf.loc[wdf['inflection']==word]\n",
    "        if len(row):\n",
    "            #The lemma of the word is in the first column\n",
    "            lemma = row.iloc[0]['root'].replace('1. ', '') \\\n",
    "                                       .replace('2. ', '') \\\n",
    "                                       .replace('3. ', '')\n",
    "            result.append(lemma)\n",
    "        else:\n",
    "            result.append(word)\n",
    "    return result\n"
   ]
  },
  {
   "cell_type": "code",
   "execution_count": 40,
   "id": "3c0ff1eb",
   "metadata": {},
   "outputs": [],
   "source": [
    "#Load the data\n",
    "df = pd.read_csv('jobs.csv',delimiter=',')\n",
    "df['clean_title'] = df['job_title'].map(remove_punctuation)\n",
    "df['clean_title'] = df['clean_title'].map(getTokens)\n",
    "\n",
    "df['clean_title'] = df['clean_title'].map(remove_stop_words)\n",
    "\n",
    "#This takes a very long time because of the inefficient algorithm, that runs in numWords X numWordsInDanishLanguage.\n",
    "wdf = pd.read_csv('fuldformer.txt', delimiter=';', names=[\"root\",\"inflection\",\"gender\"])\n",
    "df['clean_title'] = df['clean_title'].map(lambda words: word_roots(words,wdf))\n",
    "df['clean_title'] = df['clean_title'].map(lambda words: \" \".join(words))\n",
    "\n",
    "df = df.dropna()\n"
   ]
  },
  {
   "cell_type": "code",
   "execution_count": 41,
   "id": "472b5704",
   "metadata": {},
   "outputs": [
    {
     "data": {
      "text/html": [
       "<div>\n",
       "<style scoped>\n",
       "    .dataframe tbody tr th:only-of-type {\n",
       "        vertical-align: middle;\n",
       "    }\n",
       "\n",
       "    .dataframe tbody tr th {\n",
       "        vertical-align: top;\n",
       "    }\n",
       "\n",
       "    .dataframe thead th {\n",
       "        text-align: right;\n",
       "    }\n",
       "</style>\n",
       "<table border=\"1\" class=\"dataframe\">\n",
       "  <thead>\n",
       "    <tr style=\"text-align: right;\">\n",
       "      <th></th>\n",
       "      <th>job_title</th>\n",
       "      <th>job_category</th>\n",
       "      <th>clean_title</th>\n",
       "    </tr>\n",
       "  </thead>\n",
       "  <tbody>\n",
       "    <tr>\n",
       "      <th>0</th>\n",
       "      <td>Køkkenassistent søges</td>\n",
       "      <td>1</td>\n",
       "      <td>køkkenassistent</td>\n",
       "    </tr>\n",
       "    <tr>\n",
       "      <th>1</th>\n",
       "      <td>Vores kunde i Haderslev søger snedkere (Try &amp; ...</td>\n",
       "      <td>2</td>\n",
       "      <td>kunde haderslev snedker try hire</td>\n",
       "    </tr>\n",
       "    <tr>\n",
       "      <th>2</th>\n",
       "      <td>Dygtig og stabil snedker søges</td>\n",
       "      <td>2</td>\n",
       "      <td>dygtig stabil snedker</td>\n",
       "    </tr>\n",
       "    <tr>\n",
       "      <th>3</th>\n",
       "      <td>Maskinsnedker til kantlimer og gennemløbsborem...</td>\n",
       "      <td>2</td>\n",
       "      <td>maskinsnedker kantlimer gennemløbsboremaskine</td>\n",
       "    </tr>\n",
       "    <tr>\n",
       "      <th>4</th>\n",
       "      <td>Værkmester/elev søges til Enner Mark Fængsel</td>\n",
       "      <td>2</td>\n",
       "      <td>værkmester elev enner mark fængsel</td>\n",
       "    </tr>\n",
       "  </tbody>\n",
       "</table>\n",
       "</div>"
      ],
      "text/plain": [
       "                                           job_title  job_category  \\\n",
       "0                              Køkkenassistent søges             1   \n",
       "1  Vores kunde i Haderslev søger snedkere (Try & ...             2   \n",
       "2                     Dygtig og stabil snedker søges             2   \n",
       "3  Maskinsnedker til kantlimer og gennemløbsborem...             2   \n",
       "4       Værkmester/elev søges til Enner Mark Fængsel             2   \n",
       "\n",
       "                                     clean_title  \n",
       "0                                køkkenassistent  \n",
       "1               kunde haderslev snedker try hire  \n",
       "2                          dygtig stabil snedker  \n",
       "3  maskinsnedker kantlimer gennemløbsboremaskine  \n",
       "4             værkmester elev enner mark fængsel  "
      ]
     },
     "execution_count": 41,
     "metadata": {},
     "output_type": "execute_result"
    }
   ],
   "source": [
    "df.head()\n"
   ]
  },
  {
   "cell_type": "code",
   "execution_count": 42,
   "id": "7efd6f9c",
   "metadata": {},
   "outputs": [
    {
     "name": "stdout",
     "output_type": "stream",
     "text": [
      "              precision    recall  f1-score   support\n",
      "\n",
      "           2       0.00      0.00      0.00         4\n",
      "           3       1.00      0.09      0.17        11\n",
      "           4       0.00      0.00      0.00         9\n",
      "           5       0.80      0.74      0.77        58\n",
      "           6       0.81      0.85      0.83       107\n",
      "           7       0.74      0.96      0.84       186\n",
      "           8       1.00      0.15      0.27        13\n",
      "           9       0.85      0.95      0.90       185\n",
      "          10       0.00      0.00      0.00         2\n",
      "          11       0.93      0.77      0.84        97\n",
      "          12       0.84      0.77      0.81        70\n",
      "          14       0.96      0.53      0.69        45\n",
      "\n",
      "    accuracy                           0.82       787\n",
      "   macro avg       0.66      0.49      0.51       787\n",
      "weighted avg       0.82      0.82      0.80       787\n",
      "\n"
     ]
    },
    {
     "data": {
      "image/png": "[encoded data removed]",
      "text/plain": [
       "<Figure size 432x288 with 2 Axes>"
      ]
     },
     "metadata": {
      "needs_background": "light"
     },
     "output_type": "display_data"
    }
   ],
   "source": [
    "#NU kan vi begynde machine learning.\n",
    "X = np.array(df.loc[:, 'clean_title'])\n",
    "y = np.array(df.loc[:, 'job_category'])\n",
    "X_train, X_test, y_train, y_test = train_test_split(X, y, test_size = 0.2)\n",
    "\n",
    "from sklearn.feature_extraction.text import CountVectorizer\n",
    "\n",
    "count_vectorizer = CountVectorizer()\n",
    "X_train_counts = count_vectorizer.fit_transform(X_train)\n",
    "X_test_counts = count_vectorizer.transform(X_test)\n",
    "\n",
    "from sklearn.metrics import plot_confusion_matrix\n",
    "from sklearn.metrics import classification_report\n",
    "\n",
    "from sklearn.naive_bayes import MultinomialNB\n",
    "nb_mult_model = MultinomialNB().fit(X_train_counts, y_train)\n",
    "predicted = nb_mult_model.predict(X_test_counts)\n",
    "\n",
    "print(classification_report(y_test, predicted))\n",
    "plot_confusion_matrix(nb_mult_model, \n",
    "                      X_test_counts, y_test,\n",
    "                      cmap=plt.cm.Blues,\n",
    "                      xticks_rotation='vertical')\n",
    "from matplotlib.pyplot import figure\n",
    "plt.rcParams[\"figure.figsize\"] = 40,30\n",
    "plt.tight_layout()\n",
    "plt.show()"
   ]
  },
  {
   "cell_type": "code",
   "execution_count": null,
   "id": "7f315e8d",
   "metadata": {},
   "outputs": [],
   "source": []
  },
  {
   "cell_type": "code",
   "execution_count": null,
   "id": "7594e19c",
   "metadata": {},
   "outputs": [],
   "source": []
  }
 ],
 "metadata": {
  "kernelspec": {
   "display_name": "Python 3 (ipykernel)",
   "language": "python",
   "name": "python3"
  },
  "language_info": {
   "codemirror_mode": {
    "name": "ipython",
    "version": 3
   },
   "file_extension": ".py",
   "mimetype": "text/x-python",
   "name": "python",
   "nbconvert_exporter": "python",
   "pygments_lexer": "ipython3",
   "version": "3.9.7"
  }
 },
 "nbformat": 4,
 "nbformat_minor": 5
}
